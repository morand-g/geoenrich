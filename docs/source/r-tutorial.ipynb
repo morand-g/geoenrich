{
 "cells": [
  {
   "cell_type": "markdown",
   "id": "a429a691",
   "metadata": {},
   "source": [
    "# Tutorial for R users"
   ]
  },
  {
   "cell_type": "markdown",
   "id": "64173670",
   "metadata": {},
   "source": [
    "In this tutorial we will enrich *Acropora digitifera* observations with bathymetry information.\n",
    "Please make sure you already followed the [installation instructions](https://geoenrich.readthedocs.io/en/latest/r-install.html).\n",
    "\n",
    "Here is a summary of the main steps:\n",
    "- **Loading your dataset** and giving it a name (called reference here).\n",
    "- **Performing data enrichment** by specifying your dataset reference, the environmental variable you need, etc.\n",
    "- **Exporting the downloaded data** to the format you require.\n"
   ]
  },
  {
   "cell_type": "markdown",
   "id": "66dad4fc",
   "metadata": {},
   "source": [
    "## 1. Load your occurrence data"
   ]
  },
  {
   "cell_type": "markdown",
   "id": "8a7ff123",
   "metadata": {},
   "source": [
    "First import all functions from geoenrich"
   ]
  },
  {
   "cell_type": "code",
   "execution_count": null,
   "id": "6c58342a",
   "metadata": {
    "vscode": {
     "languageId": "r"
    }
   },
   "outputs": [],
   "source": [
    "library(reticulate)\n",
    "\n",
    "os <- import(\"os\")\n",
    "dataloader <- import(\"geoenrich.dataloader\", convert=FALSE)\n",
    "enrichment <- import(\"geoenrich.enrichment\", convert=FALSE)\n",
    "exports <- import(\"geoenrich.exports\", convert=FALSE)"
   ]
  },
  {
   "cell_type": "markdown",
   "id": "2715c829",
   "metadata": {},
   "source": [
    "**Three input formats are accepted. You can follow the instructions that match your format:**"
   ]
  },
  {
   "cell_type": "markdown",
   "id": "82746ad9",
   "metadata": {},
   "source": [
    "#### A. DarwinCore archive\n",
    "\n",
    "A DarwinCore archive is bundled into the package for user testing (GBIF Occurrence Download [10.15468/dl.megb8n](https://doi.org/10.15468/dl.megb8n)).\n",
    "If you don't have a dataset and you don't want to register to GBIF yet you can use this one."
   ]
  },
  {
   "cell_type": "code",
   "execution_count": 3,
   "id": "e91c6b72",
   "metadata": {
    "vscode": {
     "languageId": "r"
    }
   },
   "outputs": [],
   "source": [
    "example_path <- paste( os$path$split(dataloader$'__file__')[[1]],\n",
    "                      '/data/AcDigitifera.zip', sep = '')\n",
    "geodf <- dataloader$open_dwca(path = example_path)"
   ]
  },
  {
   "cell_type": "markdown",
   "id": "cd09f793",
   "metadata": {},
   "source": [
    "#### B. Georeferenced points (csv format)\n",
    "\n",
    "Fill in the path to your csv and the compulsory column names."
   ]
  },
  {
   "cell_type": "code",
   "execution_count": null,
   "id": "7b785be9",
   "metadata": {
    "vscode": {
     "languageId": "r"
    }
   },
   "outputs": [],
   "source": [
    "geodf <- dataloader$import_occurrences_csv( path = '', id_col = '', date_col = '',\n",
    "                                            lat_col = '', lon_col = '')"
   ]
  },
  {
   "cell_type": "markdown",
   "id": "95f2a914",
   "metadata": {},
   "source": [
    "#### C. Area bounds (csv format)\n",
    "\n",
    "See [documentation](https://geoenrich.readthedocs.io/en/latest/dataloader.html#geoenrich.dataloader.load_areas_file) for information about input file format."
   ]
  },
  {
   "cell_type": "code",
   "execution_count": null,
   "id": "5aca1a7f",
   "metadata": {
    "vscode": {
     "languageId": "r"
    }
   },
   "outputs": [],
   "source": [
    "example_path <- paste( os$path$split(dataloader$'__file__')[[1]] ,\n",
    "                      '/data/areas.csv', sep = '')\n",
    "geodf <- dataloader$load_areas_file(example_path)"
   ]
  },
  {
   "cell_type": "markdown",
   "id": "5e06ea36",
   "metadata": {},
   "source": [
    "#### For all formats: Choose a dataset reference and associate it to your dataset"
   ]
  },
  {
   "cell_type": "code",
   "execution_count": null,
   "id": "b5a0d4b1",
   "metadata": {
    "vscode": {
     "languageId": "r"
    }
   },
   "outputs": [],
   "source": [
    "dataset_ref <- 'ac_digitifera'\n",
    "enrichment$create_enrichment_file(geodf, dataset_ref)"
   ]
  },
  {
   "cell_type": "markdown",
   "id": "c489fbfc",
   "metadata": {},
   "source": [
    "## 2. Enrich"
   ]
  },
  {
   "cell_type": "markdown",
   "id": "d57131f0",
   "metadata": {},
   "source": [
    "#### Define enrichment scope"
   ]
  },
  {
   "cell_type": "markdown",
   "id": "94861222",
   "metadata": {},
   "source": [
    "- var_id: Pick a variable id from the catalog\n",
    "- geo_buff: the buffer around the occurences (in kilometers). Choose 0 to obtain nearest values.\n",
    "- time_buff: Choose a temporal buffer. In this case we download data from 7 days before the occurrence date, to the occurrence date. time_buff is only used for variables that have a time dimension"
   ]
  },
  {
   "cell_type": "code",
   "execution_count": null,
   "id": "f058adfe",
   "metadata": {
    "vscode": {
     "languageId": "r"
    }
   },
   "outputs": [],
   "source": [
    "var_id <- 'bathymetry'\n",
    "dataset_ref <- 'ac_digitifera'\n",
    "geo_buff <- 115\n",
    "time_buff <- c(-7L, 0L)"
   ]
  },
  {
   "cell_type": "markdown",
   "id": "a166d0b7",
   "metadata": {},
   "source": [
    "#### Start enrichment"
   ]
  },
  {
   "cell_type": "markdown",
   "id": "d29885eb",
   "metadata": {},
   "source": [
    "The slice argument allows you to only run the enrichment on a subset of the points."
   ]
  },
  {
   "cell_type": "code",
   "execution_count": null,
   "id": "e2359a32",
   "metadata": {
    "vscode": {
     "languageId": "r"
    }
   },
   "outputs": [],
   "source": [
    "enrichment$enrich(dataset_ref, var_id, geo_buff,\n",
    "                  time_buff, slice = c(0L,100L))"
   ]
  },
  {
   "cell_type": "markdown",
   "id": "e9f992fd",
   "metadata": {},
   "source": [
    "Check the enrichment progress"
   ]
  },
  {
   "cell_type": "code",
   "execution_count": null,
   "id": "d8db7498",
   "metadata": {
    "vscode": {
     "languageId": "r"
    }
   },
   "outputs": [],
   "source": [
    "enrichment$enrichment_status(dataset_ref)"
   ]
  },
  {
   "cell_type": "markdown",
   "id": "d698b3dc",
   "metadata": {},
   "source": [
    "## 3. Retrieve and export downloaded data"
   ]
  },
  {
   "cell_type": "markdown",
   "id": "7422c630",
   "metadata": {},
   "source": [
    "Select the dataset reference and the variable that you want to export. Then you can choose one of four options:"
   ]
  },
  {
   "cell_type": "code",
   "execution_count": null,
   "id": "3f626820",
   "metadata": {
    "vscode": {
     "languageId": "r"
    }
   },
   "outputs": [],
   "source": [
    "dataset_ref <- 'ac_digitifera'\n",
    "var_id <- 'bathymetry'"
   ]
  },
  {
   "cell_type": "markdown",
   "id": "8dde65ef",
   "metadata": {},
   "source": [
    "#### A. Export variable statistics for the whole dataset"
   ]
  },
  {
   "cell_type": "code",
   "execution_count": 9,
   "id": "dd23e2fe",
   "metadata": {
    "vscode": {
     "languageId": "r"
    }
   },
   "outputs": [],
   "source": [
    "exports$produce_stats(dataset_ref, var_id, out_path = './')"
   ]
  },
  {
   "cell_type": "markdown",
   "id": "6850c5e2",
   "metadata": {},
   "source": [
    "#### B. Export data as a raster layer for a given occurrence"
   ]
  },
  {
   "cell_type": "code",
   "execution_count": null,
   "id": "1327b0e6",
   "metadata": {
    "vscode": {
     "languageId": "r"
    }
   },
   "outputs": [],
   "source": [
    "ids <- py_to_r(enrichment$read_ids(dataset_ref))\n",
    "occ_id <- ids[[1]] # first occurrence of the dataset\n",
    "\n",
    "exports$export_raster(dataset_ref, occ_id, var_id, path = './')"
   ]
  },
  {
   "cell_type": "markdown",
   "id": "288623e8",
   "metadata": {},
   "source": [
    "#### C. Export data as a png file for a given occurrence"
   ]
  },
  {
   "cell_type": "code",
   "execution_count": null,
   "id": "8efe9b8d",
   "metadata": {
    "vscode": {
     "languageId": "r"
    }
   },
   "outputs": [],
   "source": [
    "ids <- py_to_r(enrichment$read_ids(dataset_ref))\n",
    "occ_id <- ids[[1]] # first occurrence of the dataset\n",
    "\n",
    "exports$export_png(dataset_ref, occ_id, var_id, path = './')"
   ]
  },
  {
   "cell_type": "markdown",
   "id": "c1daa34d",
   "metadata": {},
   "source": [
    "#### D. Retrieve the raw data (and plot it)"
   ]
  },
  {
   "cell_type": "markdown",
   "id": "3d229da7",
   "metadata": {},
   "source": [
    "Required libraries: ggplot2, reshape2, sf, pals"
   ]
  },
  {
   "cell_type": "code",
   "execution_count": null,
   "id": "4757f325",
   "metadata": {
    "vscode": {
     "languageId": "r"
    }
   },
   "outputs": [],
   "source": [
    "library(ggplot2)\n",
    "library(reshape2)\n",
    "library(sf)\n",
    "library(pals)"
   ]
  },
  {
   "cell_type": "code",
   "execution_count": null,
   "id": "c7320459",
   "metadata": {
    "vscode": {
     "languageId": "r"
    }
   },
   "outputs": [],
   "source": [
    "# Select an idea from the dataset\n",
    "\n",
    "ids <- enrichment$read_ids(dataset_ref)\n",
    "occ_id <- ids[[1]] # first occurrence of the dataset\n",
    "\n",
    "\n",
    "output <- exports$retrieve_data(dataset_ref, occ_id, var_id, shape = 'buffer')\n",
    "\n",
    "data <- py_to_r(output[[\"values\"]])\n",
    "unit <- output$unit\n",
    "coords <- py_to_r(output[[\"coords\"]])\n",
    "\n",
    "# Retrieve coordinates\n",
    "for (c in coords){\n",
    "    if (c[[1]] == 'latitude'){\n",
    "        lats = c[[2]]}\n",
    "    if (c[[1]] == 'longitude'){\n",
    "        longs = c[[2]]}}\n",
    "\n",
    "# Retrieve coordinates of the occurrence\n",
    "occurrences <- read.csv(file = paste(enrichment$biodiv_path, '/', dataset_ref,  '.csv', sep = ''), row.names = 1)\n",
    "occ_point <- st_coordinates(st_as_sf(occurrences[as.character(occ_id),], wkt = 'geometry'))"
   ]
  },
  {
   "cell_type": "code",
   "execution_count": 15,
   "id": "11450f72",
   "metadata": {
    "vscode": {
     "languageId": "r"
    }
   },
   "outputs": [
    {
     "data": {
      "image/png": "[encoded data removed]",
      "text/plain": [
       "plot without title"
      ]
     },
     "metadata": {
      "image/png": {
       "height": 420,
       "width": 420
      }
     },
     "output_type": "display_data"
    }
   ],
   "source": [
    "colnames(data) <- longs\n",
    "rownames(data) <- lats\n",
    "data_df <- melt(data)\n",
    "colnames(data_df) <- c('latitude', 'longitude', var_id)\n",
    "title <- paste(var_id, ' (', unit, ')', sep = '')\n",
    "ggplot(data = data_df, aes(x=longitude, y=latitude, fill=eval(as.name(var_id)))) + \n",
    "       geom_tile()+\n",
    "       scale_fill_gradientn(title,colours=coolwarm(100), guide = \"colourbar\")+\n",
    "       geom_point(aes(x=occ_point[[1]], y=occ_point[[2]]), shape=4, size = 4)"
   ]
  }
 ],
 "metadata": {
  "kernelspec": {
   "display_name": "R",
   "language": "R",
   "name": "ir"
  },
  "language_info": {
   "codemirror_mode": "r",
   "file_extension": ".r",
   "mimetype": "text/x-r-source",
   "name": "R",
   "pygments_lexer": "r",
   "version": "4.2.1"
  },
  "varInspector": {
   "cols": {
    "lenName": 16,
    "lenType": 16,
    "lenVar": 40
   },
   "kernels_config": {
    "python": {
     "delete_cmd_postfix": "",
     "delete_cmd_prefix": "del ",
     "library": "var_list.py",
     "varRefreshCmd": "print(var_dic_list())"
    },
    "r": {
     "delete_cmd_postfix": ") ",
     "delete_cmd_prefix": "rm(",
     "library": "var_list.r",
     "varRefreshCmd": "cat(var_dic_list()) "
    }
   },
   "types_to_exclude": [
    "module",
    "function",
    "builtin_function_or_method",
    "instance",
    "_Feature"
   ],
   "window_display": false
  }
 },
 "nbformat": 4,
 "nbformat_minor": 5
}
